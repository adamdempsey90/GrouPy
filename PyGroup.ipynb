{
 "cells": [
  {
   "cell_type": "code",
   "execution_count": 90,
   "metadata": {
    "collapsed": true
   },
   "outputs": [],
   "source": [
    "# import stuff\n",
    "class Person():\n",
    "    \n",
    "    def __init__(self, name, img=None):\n",
    "        self.name = name\n",
    "        if img is not None: # Change to load image from file\n",
    "            self.filname = img\n",
    "            self.img = plt.imread(img)\n",
    "        \n",
    "        self.partners = [self.name]\n",
    "    \n",
    "    def add_partner(self,person):\n",
    "        if person.name not in self.partners:\n",
    "            self.partners.append(person.name)\n",
    "        else:\n",
    "            print('{} has already been paired with {}'.format(name, self.name))\n",
    "    def __repr__(self):\n",
    "        return self.name\n"
   ]
  },
  {
   "cell_type": "code",
   "execution_count": 101,
   "metadata": {
    "collapsed": true
   },
   "outputs": [],
   "source": [
    "\n",
    "class Pool():\n",
    "    def __init__(self, people):\n",
    "        \"\"\" Initialize a pool of players. \"\"\"\n",
    "        self.items = []\n",
    "        for person in people:\n",
    "            self.push(person)\n",
    "    \n",
    "    def push(self,person):\n",
    "        \"\"\" Add a new person to the stack.\"\"\"\n",
    "        self.items.append(person)\n",
    "    def pop(self):\n",
    "        \"\"\" Remove the last person added to the stack.\"\"\"\n",
    "        return self.items.pop()\n",
    "    def size(self):\n",
    "        \"\"\" How many players do we have left.\"\"\"\n",
    "        return len(self.items)\n",
    "    def empty(self):\n",
    "        \"\"\" Return True if everyone has been paired.\"\"\"\n",
    "        return self.size == 0\n",
    "    \n",
    "    def shuffle(self):\n",
    "        import random\n",
    "        random.shuffle(self.items)\n",
    "        \n",
    "    \n",
    "def add_people(names,pool=None, imgs=None):\n",
    "    if pool is None:\n",
    "        pool = []\n",
    "    for name in names:\n",
    "        pool.append(Person(name))\n",
    "\n",
    "    return pool\n"
   ]
  },
  {
   "cell_type": "code",
   "execution_count": 91,
   "metadata": {
    "collapsed": false
   },
   "outputs": [],
   "source": [
    "import random\n",
    "\n",
    "names = ['Greg', 'Andy', 'James', 'Melissa', 'Adam', 'Stephanie', 'Harry', 'Lisa', 'Marge', 'Homer']\n",
    "people = [Person(name) for name in names]\n",
    "\n",
    "\n"
   ]
  },
  {
   "cell_type": "code",
   "execution_count": 98,
   "metadata": {
    "collapsed": true
   },
   "outputs": [],
   "source": [
    "def pair(pool):\n",
    "    #random.shuffle(pool) \n",
    "    bachelor = pool.pop()\n",
    "    max_number = len(pool)\n",
    "    count = 0\n",
    "    while len(pool) > 0:\n",
    "        if count > max_number:\n",
    "            print('{} has already partenered with everyone!'.format(bachelor.name))\n",
    "            return []\n",
    "        bachelorette = pool.pop()\n",
    "        if bachelorette.name in bachelor.partners:\n",
    "            pool = [bachelorette] + pool\n",
    "            count += 1\n",
    "        else:\n",
    "            bachelor.add_partner(bachelorette)\n",
    "            bachelorette.add_partner(bachelor)\n",
    "            return [bachelor, bachelorette]\n",
    "    \n",
    "    \n",
    "def start_round(people):\n",
    "    pool = list(people)\n",
    "    results = []\n",
    "    while len(pool) > 0:\n",
    "        random.shuffle(pool)\n",
    "        results.append(pair(pool))\n",
    "    return results"
   ]
  },
  {
   "cell_type": "code",
   "execution_count": 18,
   "metadata": {
    "collapsed": false
   },
   "outputs": [
    {
     "name": "stdout",
     "output_type": "stream",
     "text": [
      "James Harry : people left []\n"
     ]
    }
   ],
   "source": [
    "generate_list(people)"
   ]
  },
  {
   "cell_type": "code",
   "execution_count": 30,
   "metadata": {
    "collapsed": false
   },
   "outputs": [
    {
     "data": {
      "text/plain": [
       "__main__.Person"
      ]
     },
     "execution_count": 30,
     "metadata": {},
     "output_type": "execute_result"
    }
   ],
   "source": []
  },
  {
   "cell_type": "code",
   "execution_count": 99,
   "metadata": {
    "collapsed": false
   },
   "outputs": [],
   "source": [
    "\n",
    "names = ['Greg', 'Andy', 'James', 'Melissa', 'Adam', 'Stephanie', 'Harry', 'Lisa', 'Marge', 'Homer']\n",
    "people = [Person(name) for name in names]\n",
    "\n",
    "\n"
   ]
  },
  {
   "cell_type": "code",
   "execution_count": null,
   "metadata": {
    "collapsed": false
   },
   "outputs": [],
   "source": []
  },
  {
   "cell_type": "code",
   "execution_count": 100,
   "metadata": {
    "collapsed": false
   },
   "outputs": [
    {
     "name": "stdout",
     "output_type": "stream",
     "text": [
      "Round 0\n",
      "[[Homer, Lisa], [Melissa, Andy], [James, Greg], [Marge, Adam], [Stephanie, Harry]]\n",
      "Greg ['Greg', 'James']\n",
      "Andy ['Andy', 'Melissa']\n",
      "James ['James', 'Greg']\n",
      "Melissa ['Melissa', 'Andy']\n",
      "Adam ['Adam', 'Marge']\n",
      "Stephanie ['Stephanie', 'Harry']\n",
      "Harry ['Harry', 'Stephanie']\n",
      "Lisa ['Lisa', 'Homer']\n",
      "Marge ['Marge', 'Adam']\n",
      "Homer ['Homer', 'Lisa']\n",
      "Round 1\n",
      "[[Harry, Greg], [Andy, Stephanie], [Lisa, Marge], [Adam, Melissa], [Homer, James]]\n",
      "Greg ['Greg', 'James', 'Harry']\n",
      "Andy ['Andy', 'Melissa', 'Stephanie']\n",
      "James ['James', 'Greg', 'Homer']\n",
      "Melissa ['Melissa', 'Andy', 'Adam']\n",
      "Adam ['Adam', 'Marge', 'Melissa']\n",
      "Stephanie ['Stephanie', 'Harry', 'Andy']\n",
      "Harry ['Harry', 'Stephanie', 'Greg']\n",
      "Lisa ['Lisa', 'Homer', 'Marge']\n",
      "Marge ['Marge', 'Adam', 'Lisa']\n",
      "Homer ['Homer', 'Lisa', 'James']\n",
      "Round 2\n",
      "Lisa has already partenered with everyone!\n",
      "[[Marge, Andy], [Stephanie, James], [Greg, Homer], [Adam, Lisa], []]\n",
      "Greg ['Greg', 'James', 'Harry', 'Homer']\n",
      "Andy ['Andy', 'Melissa', 'Stephanie', 'Marge']\n",
      "James ['James', 'Greg', 'Homer', 'Stephanie']\n",
      "Melissa ['Melissa', 'Andy', 'Adam']\n",
      "Adam ['Adam', 'Marge', 'Melissa', 'Lisa']\n",
      "Stephanie ['Stephanie', 'Harry', 'Andy', 'James']\n",
      "Harry ['Harry', 'Stephanie', 'Greg']\n",
      "Lisa ['Lisa', 'Homer', 'Marge', 'Adam']\n",
      "Marge ['Marge', 'Adam', 'Lisa', 'Andy']\n",
      "Homer ['Homer', 'Lisa', 'James', 'Greg']\n",
      "Round 3\n",
      "[[Andy, Greg], [Homer, Harry], [Lisa, James], [Melissa, Greg], [Adam, Stephanie]]\n",
      "Greg ['Greg', 'James', 'Harry', 'Homer', 'Andy', 'Melissa']\n",
      "Andy ['Andy', 'Melissa', 'Stephanie', 'Marge', 'Greg']\n",
      "James ['James', 'Greg', 'Homer', 'Stephanie', 'Lisa']\n",
      "Melissa ['Melissa', 'Andy', 'Adam', 'Greg']\n",
      "Adam ['Adam', 'Marge', 'Melissa', 'Lisa', 'Stephanie']\n",
      "Stephanie ['Stephanie', 'Harry', 'Andy', 'James', 'Adam']\n",
      "Harry ['Harry', 'Stephanie', 'Greg', 'Homer']\n",
      "Lisa ['Lisa', 'Homer', 'Marge', 'Adam', 'James']\n",
      "Marge ['Marge', 'Adam', 'Lisa', 'Andy']\n",
      "Homer ['Homer', 'Lisa', 'James', 'Greg', 'Harry']\n",
      "Round 4\n",
      "Homer has already partenered with everyone!\n",
      "[[Melissa, Lisa], [Adam, Greg], [Lisa, Stephanie], [Marge, Harry], []]\n",
      "Greg ['Greg', 'James', 'Harry', 'Homer', 'Andy', 'Melissa', 'Adam']\n",
      "Andy ['Andy', 'Melissa', 'Stephanie', 'Marge', 'Greg']\n",
      "James ['James', 'Greg', 'Homer', 'Stephanie', 'Lisa']\n",
      "Melissa ['Melissa', 'Andy', 'Adam', 'Greg', 'Lisa']\n",
      "Adam ['Adam', 'Marge', 'Melissa', 'Lisa', 'Stephanie', 'Greg']\n",
      "Stephanie ['Stephanie', 'Harry', 'Andy', 'James', 'Adam', 'Lisa']\n",
      "Harry ['Harry', 'Stephanie', 'Greg', 'Homer', 'Marge']\n",
      "Lisa ['Lisa', 'Homer', 'Marge', 'Adam', 'James', 'Melissa', 'Stephanie']\n",
      "Marge ['Marge', 'Adam', 'Lisa', 'Andy', 'Harry']\n",
      "Homer ['Homer', 'Lisa', 'James', 'Greg', 'Harry']\n",
      "Round 5\n",
      "[[Harry, Adam], [Greg, Stephanie], [Lisa, Andy], [Melissa, Marge], [Andy, Homer]]\n",
      "Greg ['Greg', 'James', 'Harry', 'Homer', 'Andy', 'Melissa', 'Adam', 'Stephanie']\n",
      "Andy ['Andy', 'Melissa', 'Stephanie', 'Marge', 'Greg', 'Lisa', 'Homer']\n",
      "James ['James', 'Greg', 'Homer', 'Stephanie', 'Lisa']\n",
      "Melissa ['Melissa', 'Andy', 'Adam', 'Greg', 'Lisa', 'Marge']\n",
      "Adam ['Adam', 'Marge', 'Melissa', 'Lisa', 'Stephanie', 'Greg', 'Harry']\n",
      "Stephanie ['Stephanie', 'Harry', 'Andy', 'James', 'Adam', 'Lisa', 'Greg']\n",
      "Harry ['Harry', 'Stephanie', 'Greg', 'Homer', 'Marge', 'Adam']\n",
      "Lisa ['Lisa', 'Homer', 'Marge', 'Adam', 'James', 'Melissa', 'Stephanie', 'Andy']\n",
      "Marge ['Marge', 'Adam', 'Lisa', 'Andy', 'Harry', 'Melissa']\n",
      "Homer ['Homer', 'Lisa', 'James', 'Greg', 'Harry', 'Andy']\n",
      "Round 6\n",
      "[[Stephanie, Melissa], [Harry, Lisa], [Marge, Greg], [Adam, Homer], [Melissa, James]]\n",
      "Greg ['Greg', 'James', 'Harry', 'Homer', 'Andy', 'Melissa', 'Adam', 'Stephanie', 'Marge']\n",
      "Andy ['Andy', 'Melissa', 'Stephanie', 'Marge', 'Greg', 'Lisa', 'Homer']\n",
      "James ['James', 'Greg', 'Homer', 'Stephanie', 'Lisa', 'Melissa']\n",
      "Melissa ['Melissa', 'Andy', 'Adam', 'Greg', 'Lisa', 'Marge', 'Stephanie', 'James']\n",
      "Adam ['Adam', 'Marge', 'Melissa', 'Lisa', 'Stephanie', 'Greg', 'Harry', 'Homer']\n",
      "Stephanie ['Stephanie', 'Harry', 'Andy', 'James', 'Adam', 'Lisa', 'Greg', 'Melissa']\n",
      "Harry ['Harry', 'Stephanie', 'Greg', 'Homer', 'Marge', 'Adam', 'Lisa']\n",
      "Lisa ['Lisa', 'Homer', 'Marge', 'Adam', 'James', 'Melissa', 'Stephanie', 'Andy', 'Harry']\n",
      "Marge ['Marge', 'Adam', 'Lisa', 'Andy', 'Harry', 'Melissa', 'Greg']\n",
      "Homer ['Homer', 'Lisa', 'James', 'Greg', 'Harry', 'Andy', 'Adam']\n",
      "Round 7\n",
      "Lisa has already partenered with everyone!\n",
      "[[James, Adam], [Melissa, Harry], [Marge, Stephanie], [Andy, Adam], []]\n",
      "Greg ['Greg', 'James', 'Harry', 'Homer', 'Andy', 'Melissa', 'Adam', 'Stephanie', 'Marge']\n",
      "Andy ['Andy', 'Melissa', 'Stephanie', 'Marge', 'Greg', 'Lisa', 'Homer', 'Adam']\n",
      "James ['James', 'Greg', 'Homer', 'Stephanie', 'Lisa', 'Melissa', 'Adam']\n",
      "Melissa ['Melissa', 'Andy', 'Adam', 'Greg', 'Lisa', 'Marge', 'Stephanie', 'James', 'Harry']\n",
      "Adam ['Adam', 'Marge', 'Melissa', 'Lisa', 'Stephanie', 'Greg', 'Harry', 'Homer', 'James', 'Andy']\n",
      "Stephanie ['Stephanie', 'Harry', 'Andy', 'James', 'Adam', 'Lisa', 'Greg', 'Melissa', 'Marge']\n",
      "Harry ['Harry', 'Stephanie', 'Greg', 'Homer', 'Marge', 'Adam', 'Lisa', 'Melissa']\n",
      "Lisa ['Lisa', 'Homer', 'Marge', 'Adam', 'James', 'Melissa', 'Stephanie', 'Andy', 'Harry']\n",
      "Marge ['Marge', 'Adam', 'Lisa', 'Andy', 'Harry', 'Melissa', 'Greg', 'Stephanie']\n",
      "Homer ['Homer', 'Lisa', 'James', 'Greg', 'Harry', 'Andy', 'Adam']\n",
      "Round 8\n",
      "Stephanie has already partenered with everyone!\n",
      "Melissa has already partenered with everyone!\n",
      "Lisa has already partenered with everyone!\n",
      "[[Homer, Melissa], [], [], [], [James, Andy]]\n",
      "Greg ['Greg', 'James', 'Harry', 'Homer', 'Andy', 'Melissa', 'Adam', 'Stephanie', 'Marge']\n",
      "Andy ['Andy', 'Melissa', 'Stephanie', 'Marge', 'Greg', 'Lisa', 'Homer', 'Adam', 'James']\n",
      "James ['James', 'Greg', 'Homer', 'Stephanie', 'Lisa', 'Melissa', 'Adam', 'Andy']\n",
      "Melissa ['Melissa', 'Andy', 'Adam', 'Greg', 'Lisa', 'Marge', 'Stephanie', 'James', 'Harry', 'Homer']\n",
      "Adam ['Adam', 'Marge', 'Melissa', 'Lisa', 'Stephanie', 'Greg', 'Harry', 'Homer', 'James', 'Andy']\n",
      "Stephanie ['Stephanie', 'Harry', 'Andy', 'James', 'Adam', 'Lisa', 'Greg', 'Melissa', 'Marge']\n",
      "Harry ['Harry', 'Stephanie', 'Greg', 'Homer', 'Marge', 'Adam', 'Lisa', 'Melissa']\n",
      "Lisa ['Lisa', 'Homer', 'Marge', 'Adam', 'James', 'Melissa', 'Stephanie', 'Andy', 'Harry']\n",
      "Marge ['Marge', 'Adam', 'Lisa', 'Andy', 'Harry', 'Melissa', 'Greg', 'Stephanie']\n",
      "Homer ['Homer', 'Lisa', 'James', 'Greg', 'Harry', 'Andy', 'Adam', 'Melissa']\n",
      "Round 9\n",
      "Melissa has already partenered with everyone!\n",
      "Lisa has already partenered with everyone!\n",
      "Adam has already partenered with everyone!\n",
      "Andy has already partenered with everyone!\n",
      "[[], [], [], [Harry, James], []]\n",
      "Greg ['Greg', 'James', 'Harry', 'Homer', 'Andy', 'Melissa', 'Adam', 'Stephanie', 'Marge']\n",
      "Andy ['Andy', 'Melissa', 'Stephanie', 'Marge', 'Greg', 'Lisa', 'Homer', 'Adam', 'James']\n",
      "James ['James', 'Greg', 'Homer', 'Stephanie', 'Lisa', 'Melissa', 'Adam', 'Andy', 'Harry']\n",
      "Melissa ['Melissa', 'Andy', 'Adam', 'Greg', 'Lisa', 'Marge', 'Stephanie', 'James', 'Harry', 'Homer']\n",
      "Adam ['Adam', 'Marge', 'Melissa', 'Lisa', 'Stephanie', 'Greg', 'Harry', 'Homer', 'James', 'Andy']\n",
      "Stephanie ['Stephanie', 'Harry', 'Andy', 'James', 'Adam', 'Lisa', 'Greg', 'Melissa', 'Marge']\n",
      "Harry ['Harry', 'Stephanie', 'Greg', 'Homer', 'Marge', 'Adam', 'Lisa', 'Melissa', 'James']\n",
      "Lisa ['Lisa', 'Homer', 'Marge', 'Adam', 'James', 'Melissa', 'Stephanie', 'Andy', 'Harry']\n",
      "Marge ['Marge', 'Adam', 'Lisa', 'Andy', 'Harry', 'Melissa', 'Greg', 'Stephanie']\n",
      "Homer ['Homer', 'Lisa', 'James', 'Greg', 'Harry', 'Andy', 'Adam', 'Melissa']\n"
     ]
    }
   ],
   "source": [
    "for i in range(len(people)):\n",
    "    print('Round {:d}'.format(i))\n",
    "    results = start_round(people)\n",
    "    print(results)\n",
    "    for p in people:\n",
    "        print(p.name, p.partners)"
   ]
  },
  {
   "cell_type": "code",
   "execution_count": 71,
   "metadata": {
    "collapsed": false
   },
   "outputs": [
    {
     "data": {
      "text/plain": [
       "[Greg, Melissa, Adam, Andy, Marge, Harry]"
      ]
     },
     "execution_count": 71,
     "metadata": {},
     "output_type": "execute_result"
    }
   ],
   "source": [
    "people[0].partners"
   ]
  },
  {
   "cell_type": "code",
   "execution_count": null,
   "metadata": {
    "collapsed": true
   },
   "outputs": [],
   "source": []
  }
 ],
 "metadata": {
  "kernelspec": {
   "display_name": "Python 3",
   "language": "python",
   "name": "python3"
  },
  "language_info": {
   "codemirror_mode": {
    "name": "ipython",
    "version": 3
   },
   "file_extension": ".py",
   "mimetype": "text/x-python",
   "name": "python",
   "nbconvert_exporter": "python",
   "pygments_lexer": "ipython3",
   "version": "3.5.2"
  }
 },
 "nbformat": 4,
 "nbformat_minor": 0
}
